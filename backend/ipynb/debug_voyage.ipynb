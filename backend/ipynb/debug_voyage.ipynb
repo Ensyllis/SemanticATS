{
 "cells": [
  {
   "cell_type": "code",
   "execution_count": 5,
   "metadata": {},
   "outputs": [
    {
     "name": "stdout",
     "output_type": "stream",
     "text": [
      "VOYAGE_API_KEY present: True\n",
      "VOYAGE_API_KEY value: pa-iwqDx1vweP5RMSRAeuPmvGUd90106u0RNrv_FtcyKGg\n",
      "API key being used: pa-iwqDx1vweP5RMSRAeuPmvGUd90106u0RNrv_FtcyKGg\n",
      "Embedding successful!\n",
      "Embedding shape: 1024\n"
     ]
    }
   ],
   "source": [
    "# First, let's load the .env file\n",
    "from dotenv import load_dotenv\n",
    "from pathlib import Path\n",
    "import os\n",
    "\n",
    "# Get the current directory and load .env from it\n",
    "env_path = Path('.').absolute() / '.env'\n",
    "load_dotenv(env_path)\n",
    "\n",
    "# Now check if it's loaded\n",
    "print(\"VOYAGE_API_KEY present:\", \"VOYAGE_API_KEY\" in os.environ)\n",
    "print(\"VOYAGE_API_KEY value:\", os.getenv(\"VOYAGE_API_KEY\", \"Not found\"))\n",
    "\n",
    "# Test Voyage API\n",
    "import voyageai\n",
    "\n",
    "# Explicitly set the API key\n",
    "voyageai.api_key = os.getenv(\"VOYAGE_API_KEY\")\n",
    "print(\"API key being used:\", voyageai.api_key)  # This will help us debug\n",
    "\n",
    "client = voyageai.Client()\n",
    "\n",
    "# Test simple embedding\n",
    "test_text = [\"This is a test resume\"]\n",
    "try:\n",
    "    response = client.embed(\n",
    "        texts=test_text,\n",
    "        model=\"voyage-3-large\",\n",
    "        input_type=\"document\"\n",
    "    )\n",
    "    print(\"Embedding successful!\")\n",
    "    print(\"Embedding shape:\", len(response.embeddings[0]))\n",
    "except Exception as e:\n",
    "    print(\"Error:\", str(e))"
   ]
  }
 ],
 "metadata": {
  "kernelspec": {
   "display_name": "Python 3",
   "language": "python",
   "name": "python3"
  },
  "language_info": {
   "codemirror_mode": {
    "name": "ipython",
    "version": 3
   },
   "file_extension": ".py",
   "mimetype": "text/x-python",
   "name": "python",
   "nbconvert_exporter": "python",
   "pygments_lexer": "ipython3",
   "version": "3.12.1"
  }
 },
 "nbformat": 4,
 "nbformat_minor": 2
}
